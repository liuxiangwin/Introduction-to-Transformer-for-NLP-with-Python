{
  "nbformat": 4,
  "nbformat_minor": 0,
  "metadata": {
    "colab": {
      "name": "Introduction to Hugging Face transformers.ipynb",
      "provenance": []
    },
    "kernelspec": {
      "name": "python3",
      "display_name": "Python 3"
    },
    "language_info": {
      "name": "python"
    },
    "accelerator": "GPU",
    "gpuClass": "standard",
    "widgets": {
      "application/vnd.jupyter.widget-state+json": {
        "d97ef12ac2a446d097be8c979f26e214": {
          "model_module": "@jupyter-widgets/controls",
          "model_name": "HBoxModel",
          "model_module_version": "1.5.0",
          "state": {
            "_dom_classes": [],
            "_model_module": "@jupyter-widgets/controls",
            "_model_module_version": "1.5.0",
            "_model_name": "HBoxModel",
            "_view_count": null,
            "_view_module": "@jupyter-widgets/controls",
            "_view_module_version": "1.5.0",
            "_view_name": "HBoxView",
            "box_style": "",
            "children": [
              "IPY_MODEL_bbd787fa938e4019b2212db53290548d",
              "IPY_MODEL_ed2430b4e7c1441289e215f46d8725a2",
              "IPY_MODEL_f63782dbc5924a8c9c507dd3301b534c"
            ],
            "layout": "IPY_MODEL_5c3bedfdb19e41838aad6291edf99944"
          }
        },
        "bbd787fa938e4019b2212db53290548d": {
          "model_module": "@jupyter-widgets/controls",
          "model_name": "HTMLModel",
          "model_module_version": "1.5.0",
          "state": {
            "_dom_classes": [],
            "_model_module": "@jupyter-widgets/controls",
            "_model_module_version": "1.5.0",
            "_model_name": "HTMLModel",
            "_view_count": null,
            "_view_module": "@jupyter-widgets/controls",
            "_view_module_version": "1.5.0",
            "_view_name": "HTMLView",
            "description": "",
            "description_tooltip": null,
            "layout": "IPY_MODEL_6f48c9bc15304963a0b34c8f67dce165",
            "placeholder": "​",
            "style": "IPY_MODEL_1380dfd147ad4479a016efe374e70759",
            "value": "Downloading: 100%"
          }
        },
        "ed2430b4e7c1441289e215f46d8725a2": {
          "model_module": "@jupyter-widgets/controls",
          "model_name": "FloatProgressModel",
          "model_module_version": "1.5.0",
          "state": {
            "_dom_classes": [],
            "_model_module": "@jupyter-widgets/controls",
            "_model_module_version": "1.5.0",
            "_model_name": "FloatProgressModel",
            "_view_count": null,
            "_view_module": "@jupyter-widgets/controls",
            "_view_module_version": "1.5.0",
            "_view_name": "ProgressView",
            "bar_style": "success",
            "description": "",
            "description_tooltip": null,
            "layout": "IPY_MODEL_bd9a581e30a9404d85b3350dfd13ffbf",
            "max": 570,
            "min": 0,
            "orientation": "horizontal",
            "style": "IPY_MODEL_5295a286a4074b0ab89aff379f0b7a19",
            "value": 570
          }
        },
        "f63782dbc5924a8c9c507dd3301b534c": {
          "model_module": "@jupyter-widgets/controls",
          "model_name": "HTMLModel",
          "model_module_version": "1.5.0",
          "state": {
            "_dom_classes": [],
            "_model_module": "@jupyter-widgets/controls",
            "_model_module_version": "1.5.0",
            "_model_name": "HTMLModel",
            "_view_count": null,
            "_view_module": "@jupyter-widgets/controls",
            "_view_module_version": "1.5.0",
            "_view_name": "HTMLView",
            "description": "",
            "description_tooltip": null,
            "layout": "IPY_MODEL_4400b6fdca6c47dab46deb2b7df039b2",
            "placeholder": "​",
            "style": "IPY_MODEL_8e7bb45ab7f24c9d934668e099b88cca",
            "value": " 570/570 [00:00&lt;00:00, 11.1kB/s]"
          }
        },
        "5c3bedfdb19e41838aad6291edf99944": {
          "model_module": "@jupyter-widgets/base",
          "model_name": "LayoutModel",
          "model_module_version": "1.2.0",
          "state": {
            "_model_module": "@jupyter-widgets/base",
            "_model_module_version": "1.2.0",
            "_model_name": "LayoutModel",
            "_view_count": null,
            "_view_module": "@jupyter-widgets/base",
            "_view_module_version": "1.2.0",
            "_view_name": "LayoutView",
            "align_content": null,
            "align_items": null,
            "align_self": null,
            "border": null,
            "bottom": null,
            "display": null,
            "flex": null,
            "flex_flow": null,
            "grid_area": null,
            "grid_auto_columns": null,
            "grid_auto_flow": null,
            "grid_auto_rows": null,
            "grid_column": null,
            "grid_gap": null,
            "grid_row": null,
            "grid_template_areas": null,
            "grid_template_columns": null,
            "grid_template_rows": null,
            "height": null,
            "justify_content": null,
            "justify_items": null,
            "left": null,
            "margin": null,
            "max_height": null,
            "max_width": null,
            "min_height": null,
            "min_width": null,
            "object_fit": null,
            "object_position": null,
            "order": null,
            "overflow": null,
            "overflow_x": null,
            "overflow_y": null,
            "padding": null,
            "right": null,
            "top": null,
            "visibility": null,
            "width": null
          }
        },
        "6f48c9bc15304963a0b34c8f67dce165": {
          "model_module": "@jupyter-widgets/base",
          "model_name": "LayoutModel",
          "model_module_version": "1.2.0",
          "state": {
            "_model_module": "@jupyter-widgets/base",
            "_model_module_version": "1.2.0",
            "_model_name": "LayoutModel",
            "_view_count": null,
            "_view_module": "@jupyter-widgets/base",
            "_view_module_version": "1.2.0",
            "_view_name": "LayoutView",
            "align_content": null,
            "align_items": null,
            "align_self": null,
            "border": null,
            "bottom": null,
            "display": null,
            "flex": null,
            "flex_flow": null,
            "grid_area": null,
            "grid_auto_columns": null,
            "grid_auto_flow": null,
            "grid_auto_rows": null,
            "grid_column": null,
            "grid_gap": null,
            "grid_row": null,
            "grid_template_areas": null,
            "grid_template_columns": null,
            "grid_template_rows": null,
            "height": null,
            "justify_content": null,
            "justify_items": null,
            "left": null,
            "margin": null,
            "max_height": null,
            "max_width": null,
            "min_height": null,
            "min_width": null,
            "object_fit": null,
            "object_position": null,
            "order": null,
            "overflow": null,
            "overflow_x": null,
            "overflow_y": null,
            "padding": null,
            "right": null,
            "top": null,
            "visibility": null,
            "width": null
          }
        },
        "1380dfd147ad4479a016efe374e70759": {
          "model_module": "@jupyter-widgets/controls",
          "model_name": "DescriptionStyleModel",
          "model_module_version": "1.5.0",
          "state": {
            "_model_module": "@jupyter-widgets/controls",
            "_model_module_version": "1.5.0",
            "_model_name": "DescriptionStyleModel",
            "_view_count": null,
            "_view_module": "@jupyter-widgets/base",
            "_view_module_version": "1.2.0",
            "_view_name": "StyleView",
            "description_width": ""
          }
        },
        "bd9a581e30a9404d85b3350dfd13ffbf": {
          "model_module": "@jupyter-widgets/base",
          "model_name": "LayoutModel",
          "model_module_version": "1.2.0",
          "state": {
            "_model_module": "@jupyter-widgets/base",
            "_model_module_version": "1.2.0",
            "_model_name": "LayoutModel",
            "_view_count": null,
            "_view_module": "@jupyter-widgets/base",
            "_view_module_version": "1.2.0",
            "_view_name": "LayoutView",
            "align_content": null,
            "align_items": null,
            "align_self": null,
            "border": null,
            "bottom": null,
            "display": null,
            "flex": null,
            "flex_flow": null,
            "grid_area": null,
            "grid_auto_columns": null,
            "grid_auto_flow": null,
            "grid_auto_rows": null,
            "grid_column": null,
            "grid_gap": null,
            "grid_row": null,
            "grid_template_areas": null,
            "grid_template_columns": null,
            "grid_template_rows": null,
            "height": null,
            "justify_content": null,
            "justify_items": null,
            "left": null,
            "margin": null,
            "max_height": null,
            "max_width": null,
            "min_height": null,
            "min_width": null,
            "object_fit": null,
            "object_position": null,
            "order": null,
            "overflow": null,
            "overflow_x": null,
            "overflow_y": null,
            "padding": null,
            "right": null,
            "top": null,
            "visibility": null,
            "width": null
          }
        },
        "5295a286a4074b0ab89aff379f0b7a19": {
          "model_module": "@jupyter-widgets/controls",
          "model_name": "ProgressStyleModel",
          "model_module_version": "1.5.0",
          "state": {
            "_model_module": "@jupyter-widgets/controls",
            "_model_module_version": "1.5.0",
            "_model_name": "ProgressStyleModel",
            "_view_count": null,
            "_view_module": "@jupyter-widgets/base",
            "_view_module_version": "1.2.0",
            "_view_name": "StyleView",
            "bar_color": null,
            "description_width": ""
          }
        },
        "4400b6fdca6c47dab46deb2b7df039b2": {
          "model_module": "@jupyter-widgets/base",
          "model_name": "LayoutModel",
          "model_module_version": "1.2.0",
          "state": {
            "_model_module": "@jupyter-widgets/base",
            "_model_module_version": "1.2.0",
            "_model_name": "LayoutModel",
            "_view_count": null,
            "_view_module": "@jupyter-widgets/base",
            "_view_module_version": "1.2.0",
            "_view_name": "LayoutView",
            "align_content": null,
            "align_items": null,
            "align_self": null,
            "border": null,
            "bottom": null,
            "display": null,
            "flex": null,
            "flex_flow": null,
            "grid_area": null,
            "grid_auto_columns": null,
            "grid_auto_flow": null,
            "grid_auto_rows": null,
            "grid_column": null,
            "grid_gap": null,
            "grid_row": null,
            "grid_template_areas": null,
            "grid_template_columns": null,
            "grid_template_rows": null,
            "height": null,
            "justify_content": null,
            "justify_items": null,
            "left": null,
            "margin": null,
            "max_height": null,
            "max_width": null,
            "min_height": null,
            "min_width": null,
            "object_fit": null,
            "object_position": null,
            "order": null,
            "overflow": null,
            "overflow_x": null,
            "overflow_y": null,
            "padding": null,
            "right": null,
            "top": null,
            "visibility": null,
            "width": null
          }
        },
        "8e7bb45ab7f24c9d934668e099b88cca": {
          "model_module": "@jupyter-widgets/controls",
          "model_name": "DescriptionStyleModel",
          "model_module_version": "1.5.0",
          "state": {
            "_model_module": "@jupyter-widgets/controls",
            "_model_module_version": "1.5.0",
            "_model_name": "DescriptionStyleModel",
            "_view_count": null,
            "_view_module": "@jupyter-widgets/base",
            "_view_module_version": "1.2.0",
            "_view_name": "StyleView",
            "description_width": ""
          }
        },
        "77f3b3cbc4bb48a4b8fa3d67b5cd0a49": {
          "model_module": "@jupyter-widgets/controls",
          "model_name": "HBoxModel",
          "model_module_version": "1.5.0",
          "state": {
            "_dom_classes": [],
            "_model_module": "@jupyter-widgets/controls",
            "_model_module_version": "1.5.0",
            "_model_name": "HBoxModel",
            "_view_count": null,
            "_view_module": "@jupyter-widgets/controls",
            "_view_module_version": "1.5.0",
            "_view_name": "HBoxView",
            "box_style": "",
            "children": [
              "IPY_MODEL_e30671d89f714f449d459d472a564f2d",
              "IPY_MODEL_55320dacfef0446ca6fe2811201eda39",
              "IPY_MODEL_73fed9f1196d4020974fe0f0d98d1660"
            ],
            "layout": "IPY_MODEL_d799e206e0934cbfaa8299cbaabf5f63"
          }
        },
        "e30671d89f714f449d459d472a564f2d": {
          "model_module": "@jupyter-widgets/controls",
          "model_name": "HTMLModel",
          "model_module_version": "1.5.0",
          "state": {
            "_dom_classes": [],
            "_model_module": "@jupyter-widgets/controls",
            "_model_module_version": "1.5.0",
            "_model_name": "HTMLModel",
            "_view_count": null,
            "_view_module": "@jupyter-widgets/controls",
            "_view_module_version": "1.5.0",
            "_view_name": "HTMLView",
            "description": "",
            "description_tooltip": null,
            "layout": "IPY_MODEL_b4489d6033144af6b99df06b622fd5c9",
            "placeholder": "​",
            "style": "IPY_MODEL_69d2a48104394ddea98e2aa7cd311479",
            "value": "Downloading: 100%"
          }
        },
        "55320dacfef0446ca6fe2811201eda39": {
          "model_module": "@jupyter-widgets/controls",
          "model_name": "FloatProgressModel",
          "model_module_version": "1.5.0",
          "state": {
            "_dom_classes": [],
            "_model_module": "@jupyter-widgets/controls",
            "_model_module_version": "1.5.0",
            "_model_name": "FloatProgressModel",
            "_view_count": null,
            "_view_module": "@jupyter-widgets/controls",
            "_view_module_version": "1.5.0",
            "_view_name": "ProgressView",
            "bar_style": "success",
            "description": "",
            "description_tooltip": null,
            "layout": "IPY_MODEL_9e83990270b149fcb14e5c4715609900",
            "max": 440473133,
            "min": 0,
            "orientation": "horizontal",
            "style": "IPY_MODEL_9541288326444552bddac16a87666cb7",
            "value": 440473133
          }
        },
        "73fed9f1196d4020974fe0f0d98d1660": {
          "model_module": "@jupyter-widgets/controls",
          "model_name": "HTMLModel",
          "model_module_version": "1.5.0",
          "state": {
            "_dom_classes": [],
            "_model_module": "@jupyter-widgets/controls",
            "_model_module_version": "1.5.0",
            "_model_name": "HTMLModel",
            "_view_count": null,
            "_view_module": "@jupyter-widgets/controls",
            "_view_module_version": "1.5.0",
            "_view_name": "HTMLView",
            "description": "",
            "description_tooltip": null,
            "layout": "IPY_MODEL_035f2556ea5f44349d5347cd5cb07359",
            "placeholder": "​",
            "style": "IPY_MODEL_8fbe517bec9f4e708a4fc7dc92a64374",
            "value": " 440M/440M [00:10&lt;00:00, 58.1MB/s]"
          }
        },
        "d799e206e0934cbfaa8299cbaabf5f63": {
          "model_module": "@jupyter-widgets/base",
          "model_name": "LayoutModel",
          "model_module_version": "1.2.0",
          "state": {
            "_model_module": "@jupyter-widgets/base",
            "_model_module_version": "1.2.0",
            "_model_name": "LayoutModel",
            "_view_count": null,
            "_view_module": "@jupyter-widgets/base",
            "_view_module_version": "1.2.0",
            "_view_name": "LayoutView",
            "align_content": null,
            "align_items": null,
            "align_self": null,
            "border": null,
            "bottom": null,
            "display": null,
            "flex": null,
            "flex_flow": null,
            "grid_area": null,
            "grid_auto_columns": null,
            "grid_auto_flow": null,
            "grid_auto_rows": null,
            "grid_column": null,
            "grid_gap": null,
            "grid_row": null,
            "grid_template_areas": null,
            "grid_template_columns": null,
            "grid_template_rows": null,
            "height": null,
            "justify_content": null,
            "justify_items": null,
            "left": null,
            "margin": null,
            "max_height": null,
            "max_width": null,
            "min_height": null,
            "min_width": null,
            "object_fit": null,
            "object_position": null,
            "order": null,
            "overflow": null,
            "overflow_x": null,
            "overflow_y": null,
            "padding": null,
            "right": null,
            "top": null,
            "visibility": null,
            "width": null
          }
        },
        "b4489d6033144af6b99df06b622fd5c9": {
          "model_module": "@jupyter-widgets/base",
          "model_name": "LayoutModel",
          "model_module_version": "1.2.0",
          "state": {
            "_model_module": "@jupyter-widgets/base",
            "_model_module_version": "1.2.0",
            "_model_name": "LayoutModel",
            "_view_count": null,
            "_view_module": "@jupyter-widgets/base",
            "_view_module_version": "1.2.0",
            "_view_name": "LayoutView",
            "align_content": null,
            "align_items": null,
            "align_self": null,
            "border": null,
            "bottom": null,
            "display": null,
            "flex": null,
            "flex_flow": null,
            "grid_area": null,
            "grid_auto_columns": null,
            "grid_auto_flow": null,
            "grid_auto_rows": null,
            "grid_column": null,
            "grid_gap": null,
            "grid_row": null,
            "grid_template_areas": null,
            "grid_template_columns": null,
            "grid_template_rows": null,
            "height": null,
            "justify_content": null,
            "justify_items": null,
            "left": null,
            "margin": null,
            "max_height": null,
            "max_width": null,
            "min_height": null,
            "min_width": null,
            "object_fit": null,
            "object_position": null,
            "order": null,
            "overflow": null,
            "overflow_x": null,
            "overflow_y": null,
            "padding": null,
            "right": null,
            "top": null,
            "visibility": null,
            "width": null
          }
        },
        "69d2a48104394ddea98e2aa7cd311479": {
          "model_module": "@jupyter-widgets/controls",
          "model_name": "DescriptionStyleModel",
          "model_module_version": "1.5.0",
          "state": {
            "_model_module": "@jupyter-widgets/controls",
            "_model_module_version": "1.5.0",
            "_model_name": "DescriptionStyleModel",
            "_view_count": null,
            "_view_module": "@jupyter-widgets/base",
            "_view_module_version": "1.2.0",
            "_view_name": "StyleView",
            "description_width": ""
          }
        },
        "9e83990270b149fcb14e5c4715609900": {
          "model_module": "@jupyter-widgets/base",
          "model_name": "LayoutModel",
          "model_module_version": "1.2.0",
          "state": {
            "_model_module": "@jupyter-widgets/base",
            "_model_module_version": "1.2.0",
            "_model_name": "LayoutModel",
            "_view_count": null,
            "_view_module": "@jupyter-widgets/base",
            "_view_module_version": "1.2.0",
            "_view_name": "LayoutView",
            "align_content": null,
            "align_items": null,
            "align_self": null,
            "border": null,
            "bottom": null,
            "display": null,
            "flex": null,
            "flex_flow": null,
            "grid_area": null,
            "grid_auto_columns": null,
            "grid_auto_flow": null,
            "grid_auto_rows": null,
            "grid_column": null,
            "grid_gap": null,
            "grid_row": null,
            "grid_template_areas": null,
            "grid_template_columns": null,
            "grid_template_rows": null,
            "height": null,
            "justify_content": null,
            "justify_items": null,
            "left": null,
            "margin": null,
            "max_height": null,
            "max_width": null,
            "min_height": null,
            "min_width": null,
            "object_fit": null,
            "object_position": null,
            "order": null,
            "overflow": null,
            "overflow_x": null,
            "overflow_y": null,
            "padding": null,
            "right": null,
            "top": null,
            "visibility": null,
            "width": null
          }
        },
        "9541288326444552bddac16a87666cb7": {
          "model_module": "@jupyter-widgets/controls",
          "model_name": "ProgressStyleModel",
          "model_module_version": "1.5.0",
          "state": {
            "_model_module": "@jupyter-widgets/controls",
            "_model_module_version": "1.5.0",
            "_model_name": "ProgressStyleModel",
            "_view_count": null,
            "_view_module": "@jupyter-widgets/base",
            "_view_module_version": "1.2.0",
            "_view_name": "StyleView",
            "bar_color": null,
            "description_width": ""
          }
        },
        "035f2556ea5f44349d5347cd5cb07359": {
          "model_module": "@jupyter-widgets/base",
          "model_name": "LayoutModel",
          "model_module_version": "1.2.0",
          "state": {
            "_model_module": "@jupyter-widgets/base",
            "_model_module_version": "1.2.0",
            "_model_name": "LayoutModel",
            "_view_count": null,
            "_view_module": "@jupyter-widgets/base",
            "_view_module_version": "1.2.0",
            "_view_name": "LayoutView",
            "align_content": null,
            "align_items": null,
            "align_self": null,
            "border": null,
            "bottom": null,
            "display": null,
            "flex": null,
            "flex_flow": null,
            "grid_area": null,
            "grid_auto_columns": null,
            "grid_auto_flow": null,
            "grid_auto_rows": null,
            "grid_column": null,
            "grid_gap": null,
            "grid_row": null,
            "grid_template_areas": null,
            "grid_template_columns": null,
            "grid_template_rows": null,
            "height": null,
            "justify_content": null,
            "justify_items": null,
            "left": null,
            "margin": null,
            "max_height": null,
            "max_width": null,
            "min_height": null,
            "min_width": null,
            "object_fit": null,
            "object_position": null,
            "order": null,
            "overflow": null,
            "overflow_x": null,
            "overflow_y": null,
            "padding": null,
            "right": null,
            "top": null,
            "visibility": null,
            "width": null
          }
        },
        "8fbe517bec9f4e708a4fc7dc92a64374": {
          "model_module": "@jupyter-widgets/controls",
          "model_name": "DescriptionStyleModel",
          "model_module_version": "1.5.0",
          "state": {
            "_model_module": "@jupyter-widgets/controls",
            "_model_module_version": "1.5.0",
            "_model_name": "DescriptionStyleModel",
            "_view_count": null,
            "_view_module": "@jupyter-widgets/base",
            "_view_module_version": "1.2.0",
            "_view_name": "StyleView",
            "description_width": ""
          }
        },
        "a7b31d4adbf14bfa8430a526b7ed23fa": {
          "model_module": "@jupyter-widgets/controls",
          "model_name": "HBoxModel",
          "model_module_version": "1.5.0",
          "state": {
            "_dom_classes": [],
            "_model_module": "@jupyter-widgets/controls",
            "_model_module_version": "1.5.0",
            "_model_name": "HBoxModel",
            "_view_count": null,
            "_view_module": "@jupyter-widgets/controls",
            "_view_module_version": "1.5.0",
            "_view_name": "HBoxView",
            "box_style": "",
            "children": [
              "IPY_MODEL_6c746da802e84375a0e72c4cf1eeeb76",
              "IPY_MODEL_711193753cd34a97b6607681a79cf043",
              "IPY_MODEL_8dc2733422164b558f272fd977bc427a"
            ],
            "layout": "IPY_MODEL_f1741718693348b0a2ce9947f9f7f3ab"
          }
        },
        "6c746da802e84375a0e72c4cf1eeeb76": {
          "model_module": "@jupyter-widgets/controls",
          "model_name": "HTMLModel",
          "model_module_version": "1.5.0",
          "state": {
            "_dom_classes": [],
            "_model_module": "@jupyter-widgets/controls",
            "_model_module_version": "1.5.0",
            "_model_name": "HTMLModel",
            "_view_count": null,
            "_view_module": "@jupyter-widgets/controls",
            "_view_module_version": "1.5.0",
            "_view_name": "HTMLView",
            "description": "",
            "description_tooltip": null,
            "layout": "IPY_MODEL_2c5a7a5c8f0842db99c301bc652f0b16",
            "placeholder": "​",
            "style": "IPY_MODEL_00752f4324cd435d9568a688b40cf75a",
            "value": "Downloading: 100%"
          }
        },
        "711193753cd34a97b6607681a79cf043": {
          "model_module": "@jupyter-widgets/controls",
          "model_name": "FloatProgressModel",
          "model_module_version": "1.5.0",
          "state": {
            "_dom_classes": [],
            "_model_module": "@jupyter-widgets/controls",
            "_model_module_version": "1.5.0",
            "_model_name": "FloatProgressModel",
            "_view_count": null,
            "_view_module": "@jupyter-widgets/controls",
            "_view_module_version": "1.5.0",
            "_view_name": "ProgressView",
            "bar_style": "success",
            "description": "",
            "description_tooltip": null,
            "layout": "IPY_MODEL_28fe55905d7242458619738674661ae4",
            "max": 231508,
            "min": 0,
            "orientation": "horizontal",
            "style": "IPY_MODEL_59a1c17a6ea34279972f87182bc52d69",
            "value": 231508
          }
        },
        "8dc2733422164b558f272fd977bc427a": {
          "model_module": "@jupyter-widgets/controls",
          "model_name": "HTMLModel",
          "model_module_version": "1.5.0",
          "state": {
            "_dom_classes": [],
            "_model_module": "@jupyter-widgets/controls",
            "_model_module_version": "1.5.0",
            "_model_name": "HTMLModel",
            "_view_count": null,
            "_view_module": "@jupyter-widgets/controls",
            "_view_module_version": "1.5.0",
            "_view_name": "HTMLView",
            "description": "",
            "description_tooltip": null,
            "layout": "IPY_MODEL_daced88ed89742c3975341a1025e6638",
            "placeholder": "​",
            "style": "IPY_MODEL_b27ef6d4aac04818a0f90055e747605e",
            "value": " 232k/232k [00:00&lt;00:00, 645kB/s]"
          }
        },
        "f1741718693348b0a2ce9947f9f7f3ab": {
          "model_module": "@jupyter-widgets/base",
          "model_name": "LayoutModel",
          "model_module_version": "1.2.0",
          "state": {
            "_model_module": "@jupyter-widgets/base",
            "_model_module_version": "1.2.0",
            "_model_name": "LayoutModel",
            "_view_count": null,
            "_view_module": "@jupyter-widgets/base",
            "_view_module_version": "1.2.0",
            "_view_name": "LayoutView",
            "align_content": null,
            "align_items": null,
            "align_self": null,
            "border": null,
            "bottom": null,
            "display": null,
            "flex": null,
            "flex_flow": null,
            "grid_area": null,
            "grid_auto_columns": null,
            "grid_auto_flow": null,
            "grid_auto_rows": null,
            "grid_column": null,
            "grid_gap": null,
            "grid_row": null,
            "grid_template_areas": null,
            "grid_template_columns": null,
            "grid_template_rows": null,
            "height": null,
            "justify_content": null,
            "justify_items": null,
            "left": null,
            "margin": null,
            "max_height": null,
            "max_width": null,
            "min_height": null,
            "min_width": null,
            "object_fit": null,
            "object_position": null,
            "order": null,
            "overflow": null,
            "overflow_x": null,
            "overflow_y": null,
            "padding": null,
            "right": null,
            "top": null,
            "visibility": null,
            "width": null
          }
        },
        "2c5a7a5c8f0842db99c301bc652f0b16": {
          "model_module": "@jupyter-widgets/base",
          "model_name": "LayoutModel",
          "model_module_version": "1.2.0",
          "state": {
            "_model_module": "@jupyter-widgets/base",
            "_model_module_version": "1.2.0",
            "_model_name": "LayoutModel",
            "_view_count": null,
            "_view_module": "@jupyter-widgets/base",
            "_view_module_version": "1.2.0",
            "_view_name": "LayoutView",
            "align_content": null,
            "align_items": null,
            "align_self": null,
            "border": null,
            "bottom": null,
            "display": null,
            "flex": null,
            "flex_flow": null,
            "grid_area": null,
            "grid_auto_columns": null,
            "grid_auto_flow": null,
            "grid_auto_rows": null,
            "grid_column": null,
            "grid_gap": null,
            "grid_row": null,
            "grid_template_areas": null,
            "grid_template_columns": null,
            "grid_template_rows": null,
            "height": null,
            "justify_content": null,
            "justify_items": null,
            "left": null,
            "margin": null,
            "max_height": null,
            "max_width": null,
            "min_height": null,
            "min_width": null,
            "object_fit": null,
            "object_position": null,
            "order": null,
            "overflow": null,
            "overflow_x": null,
            "overflow_y": null,
            "padding": null,
            "right": null,
            "top": null,
            "visibility": null,
            "width": null
          }
        },
        "00752f4324cd435d9568a688b40cf75a": {
          "model_module": "@jupyter-widgets/controls",
          "model_name": "DescriptionStyleModel",
          "model_module_version": "1.5.0",
          "state": {
            "_model_module": "@jupyter-widgets/controls",
            "_model_module_version": "1.5.0",
            "_model_name": "DescriptionStyleModel",
            "_view_count": null,
            "_view_module": "@jupyter-widgets/base",
            "_view_module_version": "1.2.0",
            "_view_name": "StyleView",
            "description_width": ""
          }
        },
        "28fe55905d7242458619738674661ae4": {
          "model_module": "@jupyter-widgets/base",
          "model_name": "LayoutModel",
          "model_module_version": "1.2.0",
          "state": {
            "_model_module": "@jupyter-widgets/base",
            "_model_module_version": "1.2.0",
            "_model_name": "LayoutModel",
            "_view_count": null,
            "_view_module": "@jupyter-widgets/base",
            "_view_module_version": "1.2.0",
            "_view_name": "LayoutView",
            "align_content": null,
            "align_items": null,
            "align_self": null,
            "border": null,
            "bottom": null,
            "display": null,
            "flex": null,
            "flex_flow": null,
            "grid_area": null,
            "grid_auto_columns": null,
            "grid_auto_flow": null,
            "grid_auto_rows": null,
            "grid_column": null,
            "grid_gap": null,
            "grid_row": null,
            "grid_template_areas": null,
            "grid_template_columns": null,
            "grid_template_rows": null,
            "height": null,
            "justify_content": null,
            "justify_items": null,
            "left": null,
            "margin": null,
            "max_height": null,
            "max_width": null,
            "min_height": null,
            "min_width": null,
            "object_fit": null,
            "object_position": null,
            "order": null,
            "overflow": null,
            "overflow_x": null,
            "overflow_y": null,
            "padding": null,
            "right": null,
            "top": null,
            "visibility": null,
            "width": null
          }
        },
        "59a1c17a6ea34279972f87182bc52d69": {
          "model_module": "@jupyter-widgets/controls",
          "model_name": "ProgressStyleModel",
          "model_module_version": "1.5.0",
          "state": {
            "_model_module": "@jupyter-widgets/controls",
            "_model_module_version": "1.5.0",
            "_model_name": "ProgressStyleModel",
            "_view_count": null,
            "_view_module": "@jupyter-widgets/base",
            "_view_module_version": "1.2.0",
            "_view_name": "StyleView",
            "bar_color": null,
            "description_width": ""
          }
        },
        "daced88ed89742c3975341a1025e6638": {
          "model_module": "@jupyter-widgets/base",
          "model_name": "LayoutModel",
          "model_module_version": "1.2.0",
          "state": {
            "_model_module": "@jupyter-widgets/base",
            "_model_module_version": "1.2.0",
            "_model_name": "LayoutModel",
            "_view_count": null,
            "_view_module": "@jupyter-widgets/base",
            "_view_module_version": "1.2.0",
            "_view_name": "LayoutView",
            "align_content": null,
            "align_items": null,
            "align_self": null,
            "border": null,
            "bottom": null,
            "display": null,
            "flex": null,
            "flex_flow": null,
            "grid_area": null,
            "grid_auto_columns": null,
            "grid_auto_flow": null,
            "grid_auto_rows": null,
            "grid_column": null,
            "grid_gap": null,
            "grid_row": null,
            "grid_template_areas": null,
            "grid_template_columns": null,
            "grid_template_rows": null,
            "height": null,
            "justify_content": null,
            "justify_items": null,
            "left": null,
            "margin": null,
            "max_height": null,
            "max_width": null,
            "min_height": null,
            "min_width": null,
            "object_fit": null,
            "object_position": null,
            "order": null,
            "overflow": null,
            "overflow_x": null,
            "overflow_y": null,
            "padding": null,
            "right": null,
            "top": null,
            "visibility": null,
            "width": null
          }
        },
        "b27ef6d4aac04818a0f90055e747605e": {
          "model_module": "@jupyter-widgets/controls",
          "model_name": "DescriptionStyleModel",
          "model_module_version": "1.5.0",
          "state": {
            "_model_module": "@jupyter-widgets/controls",
            "_model_module_version": "1.5.0",
            "_model_name": "DescriptionStyleModel",
            "_view_count": null,
            "_view_module": "@jupyter-widgets/base",
            "_view_module_version": "1.2.0",
            "_view_name": "StyleView",
            "description_width": ""
          }
        }
      }
    }
  },
  "cells": [
    {
      "cell_type": "code",
      "execution_count": 1,
      "metadata": {
        "id": "4egApViX9Fpp"
      },
      "outputs": [],
      "source": [
        "%%capture\n",
        "!pip install transformers==3.5.1"
      ]
    },
    {
      "cell_type": "code",
      "source": [
        "!pip install torch==1.4.0."
      ],
      "metadata": {
        "colab": {
          "base_uri": "https://localhost:8080/"
        },
        "id": "3a9xxmtC9MVb",
        "outputId": "52ecea2c-5e4a-4f9c-c8f6-4aec30845911"
      },
      "execution_count": 2,
      "outputs": [
        {
          "output_type": "stream",
          "name": "stdout",
          "text": [
            "Looking in indexes: https://pypi.org/simple, https://us-python.pkg.dev/colab-wheels/public/simple/\n",
            "Collecting torch==1.4.0.\n",
            "  Downloading torch-1.4.0-cp37-cp37m-manylinux1_x86_64.whl (753.4 MB)\n",
            "\u001b[K     |████████████████████████████████| 753.4 MB 7.8 kB/s \n",
            "\u001b[?25hInstalling collected packages: torch\n",
            "  Attempting uninstall: torch\n",
            "    Found existing installation: torch 1.12.0+cu113\n",
            "    Uninstalling torch-1.12.0+cu113:\n",
            "      Successfully uninstalled torch-1.12.0+cu113\n",
            "\u001b[31mERROR: pip's dependency resolver does not currently take into account all the packages that are installed. This behaviour is the source of the following dependency conflicts.\n",
            "torchvision 0.13.0+cu113 requires torch==1.12.0, but you have torch 1.4.0 which is incompatible.\n",
            "torchtext 0.13.0 requires torch==1.12.0, but you have torch 1.4.0 which is incompatible.\n",
            "torchaudio 0.12.0+cu113 requires torch==1.12.0, but you have torch 1.4.0 which is incompatible.\n",
            "fastai 2.7.6 requires torch<1.13,>=1.7, but you have torch 1.4.0 which is incompatible.\u001b[0m\n",
            "Successfully installed torch-1.4.0\n"
          ]
        }
      ]
    },
    {
      "cell_type": "markdown",
      "source": [
        "Hugging face is an organization that is on the path of democratizing AI through natural language processing. Their open source transformers library is very popu;ar among the Natural Language processing community. It is very useful and powerful for several NLP and natural language Understanding (NLU) tasks. It includes thousands of pre-trained models in more than 100 languages/ One of the many advantages of the transformer library is that it is compatible with both PyTorch and Tensorflow\n",
        "\n",
        "# BERT embeddings.\n"
      ],
      "metadata": {
        "id": "n07lx2uQ99E0"
      }
    },
    {
      "cell_type": "code",
      "source": [
        "from transformers import BertModel, BertTokenizer\n",
        "import torch"
      ],
      "metadata": {
        "id": "QTFQLMhg-jQO"
      },
      "execution_count": 3,
      "outputs": []
    },
    {
      "cell_type": "code",
      "source": [
        "# we need to download BERT pretrained model\n",
        "model= BertModel.from_pretrained('bert-base-uncased')"
      ],
      "metadata": {
        "colab": {
          "base_uri": "https://localhost:8080/",
          "height": 81,
          "referenced_widgets": [
            "d97ef12ac2a446d097be8c979f26e214",
            "bbd787fa938e4019b2212db53290548d",
            "ed2430b4e7c1441289e215f46d8725a2",
            "f63782dbc5924a8c9c507dd3301b534c",
            "5c3bedfdb19e41838aad6291edf99944",
            "6f48c9bc15304963a0b34c8f67dce165",
            "1380dfd147ad4479a016efe374e70759",
            "bd9a581e30a9404d85b3350dfd13ffbf",
            "5295a286a4074b0ab89aff379f0b7a19",
            "4400b6fdca6c47dab46deb2b7df039b2",
            "8e7bb45ab7f24c9d934668e099b88cca",
            "77f3b3cbc4bb48a4b8fa3d67b5cd0a49",
            "e30671d89f714f449d459d472a564f2d",
            "55320dacfef0446ca6fe2811201eda39",
            "73fed9f1196d4020974fe0f0d98d1660",
            "d799e206e0934cbfaa8299cbaabf5f63",
            "b4489d6033144af6b99df06b622fd5c9",
            "69d2a48104394ddea98e2aa7cd311479",
            "9e83990270b149fcb14e5c4715609900",
            "9541288326444552bddac16a87666cb7",
            "035f2556ea5f44349d5347cd5cb07359",
            "8fbe517bec9f4e708a4fc7dc92a64374"
          ]
        },
        "id": "RwyimacN-rXw",
        "outputId": "897ee632-5144-411f-8118-05e6239e3313"
      },
      "execution_count": 4,
      "outputs": [
        {
          "output_type": "display_data",
          "data": {
            "text/plain": [
              "Downloading:   0%|          | 0.00/570 [00:00<?, ?B/s]"
            ],
            "application/vnd.jupyter.widget-view+json": {
              "version_major": 2,
              "version_minor": 0,
              "model_id": "d97ef12ac2a446d097be8c979f26e214"
            }
          },
          "metadata": {}
        },
        {
          "output_type": "display_data",
          "data": {
            "text/plain": [
              "Downloading:   0%|          | 0.00/440M [00:00<?, ?B/s]"
            ],
            "application/vnd.jupyter.widget-view+json": {
              "version_major": 2,
              "version_minor": 0,
              "model_id": "77f3b3cbc4bb48a4b8fa3d67b5cd0a49"
            }
          },
          "metadata": {}
        }
      ]
    },
    {
      "cell_type": "code",
      "source": [
        "# Next we will ned to download and load the tokenizer that was used to pre-train the bert-base-uncased\n",
        "tokenizer=BertTokenizer.from_pretrained('bert-base-uncased')"
      ],
      "metadata": {
        "colab": {
          "base_uri": "https://localhost:8080/",
          "height": 49,
          "referenced_widgets": [
            "a7b31d4adbf14bfa8430a526b7ed23fa",
            "6c746da802e84375a0e72c4cf1eeeb76",
            "711193753cd34a97b6607681a79cf043",
            "8dc2733422164b558f272fd977bc427a",
            "f1741718693348b0a2ce9947f9f7f3ab",
            "2c5a7a5c8f0842db99c301bc652f0b16",
            "00752f4324cd435d9568a688b40cf75a",
            "28fe55905d7242458619738674661ae4",
            "59a1c17a6ea34279972f87182bc52d69",
            "daced88ed89742c3975341a1025e6638",
            "b27ef6d4aac04818a0f90055e747605e"
          ]
        },
        "id": "khwtuMov-3MR",
        "outputId": "33e46a20-424a-44cc-c77d-599fad5ecb25"
      },
      "execution_count": 5,
      "outputs": [
        {
          "output_type": "display_data",
          "data": {
            "text/plain": [
              "Downloading:   0%|          | 0.00/232k [00:00<?, ?B/s]"
            ],
            "application/vnd.jupyter.widget-view+json": {
              "version_major": 2,
              "version_minor": 0,
              "model_id": "a7b31d4adbf14bfa8430a526b7ed23fa"
            }
          },
          "metadata": {}
        }
      ]
    },
    {
      "cell_type": "code",
      "source": [
        "# Define the input\n",
        "sentence = 'I love VietNam'\n",
        "# We need tokenize the sentence and obtains the tokens\n",
        "tokens = tokenizer.tokenize(sentence)\n",
        "print(tokens)"
      ],
      "metadata": {
        "colab": {
          "base_uri": "https://localhost:8080/"
        },
        "id": "DFUoHT8__Hm0",
        "outputId": "5d1ded17-e9b8-4d56-930f-4c3d706b30bb"
      },
      "execution_count": 6,
      "outputs": [
        {
          "output_type": "stream",
          "name": "stdout",
          "text": [
            "['i', 'love', 'vietnam']\n"
          ]
        }
      ]
    },
    {
      "cell_type": "code",
      "source": [
        "# Now we will add the [CLS] token at the beginning\n",
        "# And we will add the [SEP] token at the end of the token list\n",
        "tokens = ['[CLS]'] + tokens+['[SEP]']\n",
        "print(tokens)"
      ],
      "metadata": {
        "colab": {
          "base_uri": "https://localhost:8080/"
        },
        "id": "Kbj2n0Pq_Hga",
        "outputId": "01755f0c-060b-411f-cfec-5a8e548c072e"
      },
      "execution_count": 7,
      "outputs": [
        {
          "output_type": "stream",
          "name": "stdout",
          "text": [
            "['[CLS]', 'i', 'love', 'vietnam', '[SEP]']\n"
          ]
        }
      ]
    },
    {
      "cell_type": "markdown",
      "source": [
        "As can be seen from the above resilt, we have a [CLS] token at the beginning and an [SEP] token at the end of our tokens list. We can also see that the length of our tokens list is 5.\n",
        "\n",
        "If we want to increase the lenght of our tokens list to 7"
      ],
      "metadata": {
        "id": "AFaai3Jf_r28"
      }
    },
    {
      "cell_type": "code",
      "source": [
        "tokens= tokens +['[ROL]']+['[ROL]']\n",
        "print(tokens)"
      ],
      "metadata": {
        "colab": {
          "base_uri": "https://localhost:8080/"
        },
        "id": "Bm6hWVMYAAPe",
        "outputId": "b0f98bec-8c76-477a-ae09-c5e120e8a1f1"
      },
      "execution_count": 8,
      "outputs": [
        {
          "output_type": "stream",
          "name": "stdout",
          "text": [
            "['[CLS]', 'i', 'love', 'vietnam', '[SEP]', '[ROL]', '[ROL]']\n"
          ]
        }
      ]
    },
    {
      "cell_type": "markdown",
      "source": [
        "As can be seen from the above list, we have the tokens list with [ROL] toekns and the length of our token list is increased to 7.\n",
        "\n",
        "The next step is we need to create the attention mask. We need to set the attention mask value to 1 if the token is not [ROL] token, else we set the token mast to 0."
      ],
      "metadata": {
        "id": "dAWk_K_RAJwe"
      }
    },
    {
      "cell_type": "code",
      "source": [
        "attention_mask = [1 if i!='[ROL]' else 0 for i in tokens]\n",
        "print(attention_mask)"
      ],
      "metadata": {
        "colab": {
          "base_uri": "https://localhost:8080/"
        },
        "id": "SHogtCdhAcin",
        "outputId": "e2c5704b-3bcf-457c-9962-8710ba93b07f"
      },
      "execution_count": 9,
      "outputs": [
        {
          "output_type": "stream",
          "name": "stdout",
          "text": [
            "[1, 1, 1, 1, 1, 0, 0]\n"
          ]
        }
      ]
    },
    {
      "cell_type": "markdown",
      "source": [
        "As can be seen from the above result, we have the attention mask values 0 at positions where have a [ROL] token and 1 at the other position"
      ],
      "metadata": {
        "id": "Ao2LdSt6Aokf"
      }
    },
    {
      "cell_type": "code",
      "source": [
        "# Convert all the toeks to their token IDS\n",
        "token_ids = tokenizer.convert_tokens_to_ids(tokens)\n",
        "print(token_ids)"
      ],
      "metadata": {
        "colab": {
          "base_uri": "https://localhost:8080/"
        },
        "id": "8uFm7lGtA0Bx",
        "outputId": "0d5c9905-2a90-4d22-e8a7-361ed17fec76"
      },
      "execution_count": 10,
      "outputs": [
        {
          "output_type": "stream",
          "name": "stdout",
          "text": [
            "[101, 1045, 2293, 5148, 102, 100, 100]\n"
          ]
        }
      ]
    },
    {
      "cell_type": "markdown",
      "source": [
        "As can be seen from the above result, each toek is mapped to a unique token  ID."
      ],
      "metadata": {
        "id": "uHXgOZ6lBCNt"
      }
    },
    {
      "cell_type": "code",
      "source": [
        "# convert token_ids and attention_mask to tensors\n",
        "token_ids = torch.tensor(token_ids).unsqueeze(0)\n",
        "attention_mask = torch.tensor(attention_mask).unsqueeze(0)"
      ],
      "metadata": {
        "id": "L8Mf7TTfBIPq"
      },
      "execution_count": 11,
      "outputs": []
    },
    {
      "cell_type": "code",
      "source": [
        "# We wneed to feed both token_ids and attention_mask to the pre-trained BERT model and get the embedding."
      ],
      "metadata": {
        "id": "K2fdYJS5Bf8I"
      },
      "execution_count": 12,
      "outputs": []
    },
    {
      "cell_type": "markdown",
      "source": [
        "# Getting the embedding\n",
        "model will return the output as a tuple with 2 values. The first value indicates the hidden state represnetation, hidden_rep and it contains the representation of all the tokens obtained from the final encode (encoder 12) and the second value, cls_head which contains the representation of [ROL] token"
      ],
      "metadata": {
        "id": "ceY6TXF1ByU3"
      }
    },
    {
      "cell_type": "code",
      "source": [
        "hidden_rep, cls_head = model(token_ids, attention_mask= attention_mask)"
      ],
      "metadata": {
        "id": "02WPA7CZCHYP"
      },
      "execution_count": 13,
      "outputs": []
    },
    {
      "cell_type": "code",
      "source": [
        "print(hidden_rep)"
      ],
      "metadata": {
        "colab": {
          "base_uri": "https://localhost:8080/"
        },
        "id": "AhuiaJgACP5O",
        "outputId": "332af070-d689-44a7-a633-216c0602c567"
      },
      "execution_count": 14,
      "outputs": [
        {
          "output_type": "stream",
          "name": "stdout",
          "text": [
            "tensor([[[-0.0962,  0.2936, -0.3077,  ..., -0.2777,  0.2598,  0.4106],\n",
            "         [ 0.1180,  0.5573,  0.0096,  ..., -0.3113,  0.5982, -0.1665],\n",
            "         [ 0.9262,  0.9651,  0.6678,  ..., -0.1362,  0.5367, -0.2279],\n",
            "         ...,\n",
            "         [ 0.7797,  0.2199, -0.1623,  ..., -0.1704, -0.5798, -0.3032],\n",
            "         [-0.2176,  0.2169,  0.4124,  ...,  0.3516, -0.2273, -0.1362],\n",
            "         [-0.1024,  0.0676,  0.4749,  ...,  0.4331, -0.2904, -0.0798]]],\n",
            "       grad_fn=<NativeLayerNormBackward>)\n"
          ]
        }
      ]
    },
    {
      "cell_type": "code",
      "source": [
        "print(hidden_rep.shape)"
      ],
      "metadata": {
        "colab": {
          "base_uri": "https://localhost:8080/"
        },
        "id": "c5Phr0rkCUFf",
        "outputId": "d022dfde-5239-4ca5-e680-68cf887ac233"
      },
      "execution_count": 15,
      "outputs": [
        {
          "output_type": "stream",
          "name": "stdout",
          "text": [
            "torch.Size([1, 7, 768])\n"
          ]
        }
      ]
    },
    {
      "cell_type": "markdown",
      "source": [
        "The size [1, 7, 768] indicates [batch_size, sequence_length, hidden_size]\n",
        "\n",
        "\n",
        "The batch_size is 1. The sequence length is the token legnth. Because we have 7 tokens, the sequence lenght is 7. The hiddne size is the representation (embedding) size and it is 768 for the BERT-base model.\n",
        "\n",
        "We can get the repersentation of each token:\n",
        "\n",
        "\n",
        "*   hidden_rep[0][0] gives the representation of the first token which is [ROL]\n",
        "*    hidden_rep[0][1] gives the representation of the second token which is I\n",
        "\n",
        "*   hidden_rep[0][2] gives the representation of the second token which is love\n",
        "\n",
        "In this way we can obtain the contextual representation of all tokens. This means the contextualized word embeddings of all the words in the given sentence.\n",
        "\n",
        "\n",
        "\n"
      ],
      "metadata": {
        "id": "4YjyonM-ChZD"
      }
    },
    {
      "cell_type": "code",
      "source": [
        "print(cls_head.shape)"
      ],
      "metadata": {
        "colab": {
          "base_uri": "https://localhost:8080/"
        },
        "id": "cO1OkKvADhln",
        "outputId": "5d8e00e0-e18a-40f3-85eb-01e8ce726d02"
      },
      "execution_count": 16,
      "outputs": [
        {
          "output_type": "stream",
          "name": "stdout",
          "text": [
            "torch.Size([1, 768])\n"
          ]
        }
      ]
    },
    {
      "cell_type": "markdown",
      "source": [
        "[1, 768] shows [batch_size, hidden_size]\n",
        "cls_head holds the aggregate representation of the sentence so we cna use cls_head as the representation fo the sentence I love VietNam"
      ],
      "metadata": {
        "id": "QtatZYJBDo-_"
      }
    },
    {
      "cell_type": "markdown",
      "source": [
        "# Extracting the embeddings"
      ],
      "metadata": {
        "id": "McU9ojKYD7Dc"
      }
    },
    {
      "cell_type": "markdown",
      "source": [
        "We need to downloa dhte pre-trained BERT model and tokenizer. we need to set the output_hidden_states = True and setting this to True helps us to obtain embedding from all the encoder layers"
      ],
      "metadata": {
        "id": "1LJ8y7IPEAjG"
      }
    },
    {
      "cell_type": "code",
      "source": [
        "model = BertModel.from_pretrained('bert-base-uncased', output_hidden_states = True)\n",
        "tokenizer = BertTokenizer.from_pretrained('bert-base-uncased')"
      ],
      "metadata": {
        "id": "Oq7hk9BmD-S7"
      },
      "execution_count": 17,
      "outputs": []
    },
    {
      "cell_type": "code",
      "source": [
        "# Define the input\n",
        "sentence = 'I love VietNam'\n",
        "# We need tokenize the sentence and obtains the tokens\n",
        "tokens = tokenizer.tokenize(sentence)\n",
        "print(tokens)"
      ],
      "metadata": {
        "colab": {
          "base_uri": "https://localhost:8080/"
        },
        "id": "KqHnMYUOEk_E",
        "outputId": "4dad4e72-4ba7-4d8b-90ca-ccee302e2dae"
      },
      "execution_count": 18,
      "outputs": [
        {
          "output_type": "stream",
          "name": "stdout",
          "text": [
            "['i', 'love', 'vietnam']\n"
          ]
        }
      ]
    },
    {
      "cell_type": "code",
      "source": [
        "# Now we will add the [CLS] token at the beginning\n",
        "# And we will add the [SEP] token at the end of the token list\n",
        "tokens = ['[CLS]'] + tokens+['[SEP]']\n",
        "print(tokens)"
      ],
      "metadata": {
        "colab": {
          "base_uri": "https://localhost:8080/"
        },
        "id": "pWqn0h5HEurD",
        "outputId": "4c99c781-09eb-47d1-aa3b-95b36fb58533"
      },
      "execution_count": 19,
      "outputs": [
        {
          "output_type": "stream",
          "name": "stdout",
          "text": [
            "['[CLS]', 'i', 'love', 'vietnam', '[SEP]']\n"
          ]
        }
      ]
    },
    {
      "cell_type": "code",
      "source": [
        "tokens= tokens +['[ROL]']+['[ROL]']\n",
        "print(tokens)"
      ],
      "metadata": {
        "colab": {
          "base_uri": "https://localhost:8080/"
        },
        "id": "Z8SNp8FUExWi",
        "outputId": "78e56686-06b0-4904-a4c2-86df7666bbfe"
      },
      "execution_count": 20,
      "outputs": [
        {
          "output_type": "stream",
          "name": "stdout",
          "text": [
            "['[CLS]', 'i', 'love', 'vietnam', '[SEP]', '[ROL]', '[ROL]']\n"
          ]
        }
      ]
    },
    {
      "cell_type": "code",
      "source": [
        "attention_mask = [1 if i!='[ROL]' else 0 for i in tokens]\n",
        "print(attention_mask)"
      ],
      "metadata": {
        "colab": {
          "base_uri": "https://localhost:8080/"
        },
        "id": "KxoNs56QE0-8",
        "outputId": "ce24e01e-bc9e-4c1b-c0f2-b0314bdeb965"
      },
      "execution_count": 21,
      "outputs": [
        {
          "output_type": "stream",
          "name": "stdout",
          "text": [
            "[1, 1, 1, 1, 1, 0, 0]\n"
          ]
        }
      ]
    },
    {
      "cell_type": "code",
      "source": [
        "# Convert all the toeks to their token IDS\n",
        "token_ids = tokenizer.convert_tokens_to_ids(tokens)\n",
        "print(token_ids)"
      ],
      "metadata": {
        "colab": {
          "base_uri": "https://localhost:8080/"
        },
        "id": "keX1VcbbE4FP",
        "outputId": "372e39e0-0611-418f-dd8d-f34bb71abf69"
      },
      "execution_count": 22,
      "outputs": [
        {
          "output_type": "stream",
          "name": "stdout",
          "text": [
            "[101, 1045, 2293, 5148, 102, 100, 100]\n"
          ]
        }
      ]
    },
    {
      "cell_type": "code",
      "source": [
        "# convert token_ids and attention_mask to tensors\n",
        "token_ids = torch.tensor(token_ids).unsqueeze(0)\n",
        "attention_mask = torch.tensor(attention_mask).unsqueeze(0)"
      ],
      "metadata": {
        "id": "ZZyNFMhJE7-e"
      },
      "execution_count": 23,
      "outputs": []
    },
    {
      "cell_type": "markdown",
      "source": [
        "# Getting the embeddings.\n",
        "Because we set the output_hidden_states= True while defining the model to get the embeddings from all the encoder layers, now the model will return an ouput tupe with 3 values"
      ],
      "metadata": {
        "id": "pz8POfK0E_yh"
      }
    },
    {
      "cell_type": "code",
      "source": [
        "last_hidden_state, pooler_output, hidden_states = model(token_ids, attention_mask = attention_mask)"
      ],
      "metadata": {
        "id": "SDRdAIwrFOIt"
      },
      "execution_count": 24,
      "outputs": []
    },
    {
      "cell_type": "markdown",
      "source": [
        "As can be seen from the above code, the first value, last_hidden_state contains the representation of all the tokens obtained only from the final encoder layer(encoder 12).\n",
        "\n",
        "Next is the pooler_output shows the representation of the [CLS] token from the final encoder layer which is further processd by a linear and tanh activation function.\n",
        "hidden_states contains the representation of all the tokens obtained from all the encoder layers.\n",
        "\n",
        "The next step is to look tat each of these values and understand them in more detail."
      ],
      "metadata": {
        "id": "G4IGYV9GFeEe"
      }
    },
    {
      "cell_type": "markdown",
      "source": [
        "First let's take a look at last_hidden_state. As we did learn it holds the representation of all the tokens obtained only from the final encoder layer (encoder 12)"
      ],
      "metadata": {
        "id": "uFxTQtDSnRwH"
      }
    },
    {
      "cell_type": "code",
      "source": [
        "# It is a time to print the shape of last_hidden_state\n",
        "last_hidden_state.shape"
      ],
      "metadata": {
        "colab": {
          "base_uri": "https://localhost:8080/"
        },
        "id": "lnrRXN2gnN3B",
        "outputId": "15b1b9d1-d969-4804-cc07-2a6e4268a53b"
      },
      "execution_count": 25,
      "outputs": [
        {
          "output_type": "execute_result",
          "data": {
            "text/plain": [
              "torch.Size([1, 7, 768])"
            ]
          },
          "metadata": {},
          "execution_count": 25
        }
      ]
    },
    {
      "cell_type": "markdown",
      "source": [
        "The size [1, 7, 768] indicates [batch_size, sequence_length, hidden_size]\n",
        "\n",
        "The batch_size is 1. The sequence length is the token legnth. Because we have 7 tokens, the sequence lenght is 7. The hiddne size is the representation (embedding) size and it is 768 for the BERT-base model.\n",
        "\n",
        "We can get the repersentation of each token:\n",
        "\n",
        "hidden_rep[0][0] gives the representation of the first token which is [ROL]\n",
        "\n",
        "hidden_rep[0][1] gives the representation of the second token which is I\n",
        "\n",
        "hidden_rep[0][2] gives the representation of the second token which is love\n",
        "\n",
        "Similarly, we can obtain the representation of all the tokens from the final encoder layer.\n",
        "\n",
        "Next we have a pooler_output, which contains the representation of the [ROL] token from the final encoder layer which is further processed by a linear and tanh activation function."
      ],
      "metadata": {
        "id": "2DZXkMMpnvGE"
      }
    },
    {
      "cell_type": "code",
      "source": [
        "pooler_output.shape"
      ],
      "metadata": {
        "colab": {
          "base_uri": "https://localhost:8080/"
        },
        "id": "1mylRSzIoHfj",
        "outputId": "3a4e2f2a-e235-4e9c-979e-0c524271088e"
      },
      "execution_count": 26,
      "outputs": [
        {
          "output_type": "execute_result",
          "data": {
            "text/plain": [
              "torch.Size([1, 768])"
            ]
          },
          "metadata": {},
          "execution_count": 26
        }
      ]
    },
    {
      "cell_type": "markdown",
      "source": [
        "[1, 768] shows [batch_size, hidden_size] cls_head holds the aggregate representation of the sentence so we cna use cls_head as the representation fo the sentence I love VietNam.\n",
        "\n",
        "And then finally we have the hidden_states, which contains the representation of all the tokens obtained from all the encoder layers. It is a tuple containing 13 values holding the representation of all encoder layers (hidden layers), from the input embedding layer h0 to the final encoder layer h12\n"
      ],
      "metadata": {
        "id": "UUmvLwiBoM6e"
      }
    },
    {
      "cell_type": "code",
      "source": [
        "len(hidden_states)"
      ],
      "metadata": {
        "colab": {
          "base_uri": "https://localhost:8080/"
        },
        "id": "UL8Gmx9Yosaz",
        "outputId": "b339339e-0638-47cc-ed69-a50581feda5f"
      },
      "execution_count": 27,
      "outputs": [
        {
          "output_type": "execute_result",
          "data": {
            "text/plain": [
              "13"
            ]
          },
          "metadata": {},
          "execution_count": 27
        }
      ]
    },
    {
      "cell_type": "markdown",
      "source": [
        "As can be seen from the above result, it contains 13 values holding the representation of all layers\n",
        "\n",
        "hidden_states[0] contains the representation of all the tokens obtained from the input embedding layer h0\n",
        "\n",
        "\n",
        "hidden_state[1] contains the representation of all the tokens obtained from the first encoder layer h1\n",
        "\n",
        "\n",
        "hidden_state[2] contains the representation of all the tokens obtained from the first encoder layer h2\n",
        "\n",
        "\n",
        "hidden_state[12] contains the representation of all the tokens obtained from the first encoder layer h12\n",
        "\n",
        "Now let's explore this more."
      ],
      "metadata": {
        "id": "mjCYXHkuovz5"
      }
    },
    {
      "cell_type": "code",
      "source": [
        "# print the shape of hdden_states[0] which contains the representation of all the tokens obtained from the input embedding layer h0\n",
        "hidden_states[0].shape"
      ],
      "metadata": {
        "colab": {
          "base_uri": "https://localhost:8080/"
        },
        "id": "5wLKV6qJpPL-",
        "outputId": "b34bc644-52b2-43c5-c547-2884b23a7a0f"
      },
      "execution_count": 28,
      "outputs": [
        {
          "output_type": "execute_result",
          "data": {
            "text/plain": [
              "torch.Size([1, 7, 768])"
            ]
          },
          "metadata": {},
          "execution_count": 28
        }
      ]
    },
    {
      "cell_type": "markdown",
      "source": [
        "The size [1, 7, 768] indicates [batch_size, sequence_length, hidden_size]"
      ],
      "metadata": {
        "id": "EfXA4mhrpfzg"
      }
    },
    {
      "cell_type": "code",
      "source": [
        "hidden_states[1].shape\n"
      ],
      "metadata": {
        "colab": {
          "base_uri": "https://localhost:8080/"
        },
        "id": "2rW_iw3hpgLj",
        "outputId": "fc5071d8-9e49-4804-d8e0-02b06e7721ba"
      },
      "execution_count": 29,
      "outputs": [
        {
          "output_type": "execute_result",
          "data": {
            "text/plain": [
              "torch.Size([1, 7, 768])"
            ]
          },
          "metadata": {},
          "execution_count": 29
        }
      ]
    },
    {
      "cell_type": "markdown",
      "source": [
        "Therefore, in this way we can obtain the embedding of tokens from all the encoder layers. "
      ],
      "metadata": {
        "id": "fI5TMEzeprAc"
      }
    }
  ]
}