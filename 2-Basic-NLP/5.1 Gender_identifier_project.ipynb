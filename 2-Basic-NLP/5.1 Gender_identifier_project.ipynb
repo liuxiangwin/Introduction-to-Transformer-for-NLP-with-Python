{
  "nbformat": 4,
  "nbformat_minor": 0,
  "metadata": {
    "colab": {
      "name": "Gender identifier project.ipynb",
      "provenance": []
    },
    "kernelspec": {
      "name": "python3",
      "display_name": "Python 3"
    },
    "language_info": {
      "name": "python"
    }
  },
  "cells": [
    {
      "cell_type": "markdown",
      "source": [
        "In this project we will use a heuristic  to construct a feature vector and use it to train a classifier. The heuristic that will be used here is the last N letters of a given name. For example, if the name ends with ia, it is most likely a female name such as amelia or Genelia. On the other hand, if the name ends iwth rk, it is likely a male name such as Mark, clark. Because we will not know exact number of letters to use, we will play around with this parameter and find out what the best answer is."
      ],
      "metadata": {
        "id": "qvPWAMFc2zh7"
      }
    },
    {
      "cell_type": "code",
      "execution_count": 1,
      "metadata": {
        "id": "3LoMyH_S2qmx"
      },
      "outputs": [],
      "source": [
        "import random\n",
        "from nltk import NaiveBayesClassifier\n",
        "from nltk.classify import accuracy as nltk_accuracy\n",
        "from nltk.corpus import names"
      ]
    },
    {
      "cell_type": "code",
      "source": [
        "# Define a function to extract the last N letters from the input word\n",
        "def extract_features(word, N=2):\n",
        "  last_n_letters = word[-N:]\n",
        "  return {'feature':last_n_letters.lower()}"
      ],
      "metadata": {
        "id": "_hnwk1z63mbX"
      },
      "execution_count": 2,
      "outputs": []
    },
    {
      "cell_type": "code",
      "source": [
        "import nltk\n",
        "nltk.download('names')\n",
        "# Create the training data using labeled names available in NTLK \n",
        "male_list = [(name, 'male') for name in names.words('male.txt')]\n",
        "female_list = [(name, 'female') for name in names.words('female.txt')]\n",
        "data = (male_list + female_list)"
      ],
      "metadata": {
        "colab": {
          "base_uri": "https://localhost:8080/"
        },
        "id": "WolWo19R35pV",
        "outputId": "5b1a6fef-502c-4607-a02d-7c89c6aef4cf"
      },
      "execution_count": 5,
      "outputs": [
        {
          "output_type": "stream",
          "name": "stderr",
          "text": [
            "[nltk_data] Downloading package names to /root/nltk_data...\n",
            "[nltk_data]   Unzipping corpora/names.zip.\n"
          ]
        }
      ]
    },
    {
      "cell_type": "code",
      "source": [
        "# Seed the random number generator\n",
        "random.seed(5)\n",
        "# Shuffle the data\n",
        "random.shuffle(data)"
      ],
      "metadata": {
        "id": "2qAaJZAZ4mZQ"
      },
      "execution_count": 6,
      "outputs": []
    },
    {
      "cell_type": "code",
      "source": [
        "# Create some sample names that will be used for testing\n",
        "input_names = ['Alexander', 'Daniellle', 'David','Cheryl']\n",
        "# Define the number of samples used for train and test\n",
        "num_train = int(0.8*len(data))\n"
      ],
      "metadata": {
        "id": "4nB685lf4veJ"
      },
      "execution_count": 7,
      "outputs": []
    },
    {
      "cell_type": "markdown",
      "source": [
        "The last N characters will be used as the feature vector to predict the gender. This parameter will be cahnged to see how the performanfe varies. In this case we will go from 1 to 6."
      ],
      "metadata": {
        "id": "vniErsWE5HSq"
      }
    },
    {
      "cell_type": "code",
      "source": [
        "for i in range(1, 6):\n",
        "    print('\\nNumber of end letters:', i)\n",
        "    features = [(extract_features(n, i), gender) for (n, gender) in data]\n",
        "    train_data, test_data = features[:num_train], features[num_train:]\n",
        "    classifier = NaiveBayesClassifier.train(train_data)\n",
        "    # We need to compute the accuracy of the classifier using the inbuilt accuracy method that is available in NLTK\n",
        "        # Compute the accuracy of the classifier \n",
        "    accuracy = round(100 * nltk_accuracy(classifier, test_data), 2)\n",
        "    print('Accuracy = ' + str(accuracy) + '%')\n",
        "    # Predict the output for each name in the input test list\n",
        "    for name in input_names:\n",
        "        print(name, '==>', classifier.classify(extract_features(name, i)))"
      ],
      "metadata": {
        "colab": {
          "base_uri": "https://localhost:8080/"
        },
        "id": "1b4zkQBy5F25",
        "outputId": "f28f716e-c242-4689-f8ac-1fe538c298a3"
      },
      "execution_count": 9,
      "outputs": [
        {
          "output_type": "stream",
          "name": "stdout",
          "text": [
            "\n",
            "Number of end letters: 1\n",
            "Accuracy = 74.7%\n",
            "Alexander ==> male\n",
            "Daniellle ==> female\n",
            "David ==> male\n",
            "Cheryl ==> male\n",
            "\n",
            "Number of end letters: 2\n",
            "Accuracy = 78.79%\n",
            "Alexander ==> male\n",
            "Daniellle ==> female\n",
            "David ==> male\n",
            "Cheryl ==> female\n",
            "\n",
            "Number of end letters: 3\n",
            "Accuracy = 77.22%\n",
            "Alexander ==> male\n",
            "Daniellle ==> female\n",
            "David ==> male\n",
            "Cheryl ==> female\n",
            "\n",
            "Number of end letters: 4\n",
            "Accuracy = 69.98%\n",
            "Alexander ==> male\n",
            "Daniellle ==> female\n",
            "David ==> male\n",
            "Cheryl ==> female\n",
            "\n",
            "Number of end letters: 5\n",
            "Accuracy = 64.63%\n",
            "Alexander ==> male\n",
            "Daniellle ==> female\n",
            "David ==> male\n",
            "Cheryl ==> female\n"
          ]
        }
      ]
    },
    {
      "cell_type": "markdown",
      "source": [
        "As can be seen from the above result, the accuracy peaked at 2 letters and then started decreasing after that."
      ],
      "metadata": {
        "id": "JqcPGOrg6_gO"
      }
    }
  ]
}